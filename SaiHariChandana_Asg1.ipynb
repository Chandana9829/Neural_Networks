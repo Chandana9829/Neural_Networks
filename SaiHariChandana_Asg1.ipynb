{
 "cells": [
  {
   "cell_type": "code",
   "execution_count": null,
   "id": "930eea54-d8e8-49d9-841b-7a24440acf68",
   "metadata": {},
   "outputs": [],
   "source": [
    "#1 Input the string “Python” as a list of characters from console, delete at least 2 characters, reverse the resultantstring and print it."
   ]
  },
  {
   "cell_type": "code",
   "execution_count": 1,
   "id": "06d94903-3066-4259-b27e-f6208333414e",
   "metadata": {},
   "outputs": [
    {
     "name": "stdin",
     "output_type": "stream",
     "text": [
      "Enter a string python\n"
     ]
    },
    {
     "name": "stdout",
     "output_type": "stream",
     "text": [
      "final output is: htyp\n"
     ]
    }
   ],
   "source": [
    "string=input(\"Enter a string\")\n",
    "length=len(string)\n",
    "delete=string[:length-2]\n",
    "ReversedString = delete[::-1]\n",
    "print (\"final output is:\", ReversedString)"
   ]
  },
  {
   "cell_type": "code",
   "execution_count": null,
   "id": "fa4adf0a-113c-4d4d-816b-7e53bf31d583",
   "metadata": {},
   "outputs": [],
   "source": [
    "# – Take two numbers from user and perform at least 4 arithmetic operations on them."
   ]
  },
  {
   "cell_type": "code",
   "execution_count": 1,
   "id": "64b1e93e-a931-4532-8de8-960632151c64",
   "metadata": {},
   "outputs": [
    {
     "name": "stdin",
     "output_type": "stream",
     "text": [
      "Enter 1st number 29\n",
      "Enter 2nd number 50\n"
     ]
    },
    {
     "name": "stdout",
     "output_type": "stream",
     "text": [
      "Addition 79\n",
      "Substraction -21\n",
      "Multiplication 1450\n",
      "Division 29\n"
     ]
    }
   ],
   "source": [
    "a=int(input(\"Enter 1st number\"))\n",
    "b=int(input(\"Enter 2nd number\"))\n",
    "sum=a+b\n",
    "mul=a*b\n",
    "sub=a-b\n",
    "div=a%b\n",
    "print(\"Addition\",sum)\n",
    "print(\"Substraction\" , sub)\n",
    "print(\"Multiplication\",mul)\n",
    "print(\"Division\",div)"
   ]
  },
  {
   "cell_type": "code",
   "execution_count": null,
   "id": "75ab8d26-3204-4e6b-b27e-f609e7abf152",
   "metadata": {},
   "outputs": [],
   "source": [
    "#2 Write a program that accepts a sentence and replace each occurrence of ‘python’ with ‘pythons’"
   ]
  },
  {
   "cell_type": "code",
   "execution_count": 2,
   "id": "cea572af-b235-4f4a-8ab7-e72e57a5b5b6",
   "metadata": {},
   "outputs": [
    {
     "name": "stdin",
     "output_type": "stream",
     "text": [
      "Enter String: Python World\n"
     ]
    },
    {
     "name": "stdout",
     "output_type": "stream",
     "text": [
      "Modified string:\n",
      "Pythons World\n"
     ]
    }
   ],
   "source": [
    "string=input(\"Enter String:\")\n",
    "modified_string=string.replace('Python','Pythons')\n",
    "print(\"Modified string:\")\n",
    "print(modified_string)"
   ]
  },
  {
   "cell_type": "code",
   "execution_count": null,
   "id": "181ac2ad-9b8f-4d80-b100-5dc4be41fc0a",
   "metadata": {},
   "outputs": [],
   "source": [
    "#3 Use the if statement conditions to write a program to print the letter grade based on an input class score. \n",
    "# Use the grading scheme we are using in this class."
   ]
  },
  {
   "cell_type": "code",
   "execution_count": 4,
   "id": "65b0b42c-0a2a-48bb-b49c-a0089b2ea4d8",
   "metadata": {},
   "outputs": [
    {
     "name": "stdin",
     "output_type": "stream",
     "text": [
      "Please enter your score: 95\n"
     ]
    },
    {
     "name": "stdout",
     "output_type": "stream",
     "text": [
      "Your Total is 95\n",
      "Your Grade is A\n"
     ]
    }
   ],
   "source": [
    "Total=int(input(\"Please enter your score:\"))\n",
    "print(\"Your Total is\",Total)\n",
    "if Total >= 90 and Total <= 100:\n",
    "    print(\"Your Grade is A\")\n",
    "elif Total >= 80 and Total <= 89:\n",
    "    print(\"Your Grade is B\")\n",
    "elif Total >= 70 and Total <= 79:\n",
    "    print(\"Your Grade is C\")\n",
    "elif Total >= 60 and Total <= 69:\n",
    "    print(\"Your Grade is D\")\n",
    "else:\n",
    "    print(\"Your Grade is F\")"
   ]
  }
 ],
 "metadata": {
  "kernelspec": {
   "display_name": "Python 3 (ipykernel)",
   "language": "python",
   "name": "python3"
  },
  "language_info": {
   "codemirror_mode": {
    "name": "ipython",
    "version": 3
   },
   "file_extension": ".py",
   "mimetype": "text/x-python",
   "name": "python",
   "nbconvert_exporter": "python",
   "pygments_lexer": "ipython3",
   "version": "3.12.1"
  }
 },
 "nbformat": 4,
 "nbformat_minor": 5
}
