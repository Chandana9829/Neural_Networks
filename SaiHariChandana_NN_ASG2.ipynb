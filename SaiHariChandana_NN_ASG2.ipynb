{
 "cells": [
  {
   "cell_type": "code",
   "execution_count": 2,
   "id": "d43289dc-1380-4331-ad9e-486d148eff69",
   "metadata": {},
   "outputs": [
    {
     "name": "stdin",
     "output_type": "stream",
     "text": [
      "Enter your first name:  Good\n",
      "Enter your last name:  Evening\n"
     ]
    },
    {
     "name": "stdout",
     "output_type": "stream",
     "text": [
      "Full Name: Good Evening\n",
      "Every Other Character: Go vnn\n"
     ]
    }
   ],
   "source": [
    "def fullname(first_name, last_name):\n",
    "    full_name = first_name + \" \" + last_name\n",
    "    return full_name\n",
    "\n",
    "def string_alternative(full_name):\n",
    "    return full_name[::2]\n",
    "\n",
    "def main():\n",
    "    # Get user input for first name and last name\n",
    "    first_name = input(\"Enter your first name: \")\n",
    "    last_name = input(\"Enter your last name: \")\n",
    "\n",
    "    # Call the fullname function to get the full name\n",
    "    full_name = fullname(first_name, last_name)\n",
    "    print(\"Full Name:\", full_name)\n",
    "\n",
    "    # Call the string_alternative function to get every other character\n",
    "    result = string_alternative(full_name)\n",
    "    print(\"Every Other Character:\", result)\n",
    "\n",
    "# Call the main function to run the program\n",
    "main()"
   ]
  },
  {
   "cell_type": "code",
   "execution_count": 20,
   "id": "75161b19-f4c3-461c-8172-3ada7c1fb843",
   "metadata": {},
   "outputs": [],
   "source": [
    "from collections import Counter\n",
    "\n",
    "with open(r'C:\\Users\\Chandana\\Desktop\\Python\\.ipynb_checkpoints\\input.txt') as f:\n",
    "    lines = f.read()\n",
    "    list_words = (' '.join(lines.splitlines())).split()\n",
    "    ar = str(dict(Counter(list_words)))\n",
    "    with open(r'C:\\Users\\Chandana\\Desktop\\Python\\.ipynb_checkpoints\\output.txt', 'w') as s:\n",
    "        s.write(ar)"
   ]
  },
  {
   "cell_type": "code",
   "execution_count": 24,
   "id": "29b7151e-a80e-46ae-9dae-791761f09576",
   "metadata": {},
   "outputs": [
    {
     "name": "stdout",
     "output_type": "stream",
     "text": [
      "output for loop [363.22, 381.0, 429.26, 642.62]\n",
      "output for List Comprehension [363.22, 381.0, 429.26, 642.62]\n"
     ]
    }
   ],
   "source": [
    "def convertinginchestocm():\n",
    "    list=[143,150,169,253]\n",
    "    e=[]\n",
    "    for items in list: \n",
    "        e.append(items*2.54) \n",
    "    print(\"output for loop\",e)\n",
    "    print(\"output for List Comprehension\",[items*2.54 for items in list])\n",
    "    \n",
    "convertinginchestocm()"
   ]
  }
 ],
 "metadata": {
  "kernelspec": {
   "display_name": "Python 3 (ipykernel)",
   "language": "python",
   "name": "python3"
  },
  "language_info": {
   "codemirror_mode": {
    "name": "ipython",
    "version": 3
   },
   "file_extension": ".py",
   "mimetype": "text/x-python",
   "name": "python",
   "nbconvert_exporter": "python",
   "pygments_lexer": "ipython3",
   "version": "3.12.1"
  }
 },
 "nbformat": 4,
 "nbformat_minor": 5
}
